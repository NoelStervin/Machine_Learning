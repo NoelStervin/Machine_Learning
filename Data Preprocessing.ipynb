{
 "cells": [
  {
   "cell_type": "markdown",
   "id": "e3528750-a5ef-41f4-acbe-8c4067a8fda7",
   "metadata": {},
   "source": [
    "# MACHINE LEARNING"
   ]
  },
  {
   "cell_type": "markdown",
   "id": "2bca429e-27a4-492b-aef9-052fc5ef38d3",
   "metadata": {},
   "source": [
    "## TASK 3"
   ]
  },
  {
   "cell_type": "code",
   "execution_count": 79,
   "id": "002049b0-0359-415c-a670-cced45df7a0c",
   "metadata": {},
   "outputs": [],
   "source": [
    "import pandas as pd"
   ]
  },
  {
   "cell_type": "code",
   "execution_count": 80,
   "id": "3f958d15-a990-4d4e-8127-4e48e10f8479",
   "metadata": {},
   "outputs": [],
   "source": [
    "df=pd.read_csv('I:\\ENTRI\\Entri ML\\ML Task 3\\Employee.csv')"
   ]
  },
  {
   "cell_type": "code",
   "execution_count": 81,
   "id": "64df5e7f-a197-4b62-a4a4-9cba49181547",
   "metadata": {},
   "outputs": [
    {
     "data": {
      "text/html": [
       "<div>\n",
       "<style scoped>\n",
       "    .dataframe tbody tr th:only-of-type {\n",
       "        vertical-align: middle;\n",
       "    }\n",
       "\n",
       "    .dataframe tbody tr th {\n",
       "        vertical-align: top;\n",
       "    }\n",
       "\n",
       "    .dataframe thead th {\n",
       "        text-align: right;\n",
       "    }\n",
       "</style>\n",
       "<table border=\"1\" class=\"dataframe\">\n",
       "  <thead>\n",
       "    <tr style=\"text-align: right;\">\n",
       "      <th></th>\n",
       "      <th>Company</th>\n",
       "      <th>Age</th>\n",
       "      <th>Salary</th>\n",
       "      <th>Place</th>\n",
       "      <th>Country</th>\n",
       "      <th>Gender</th>\n",
       "    </tr>\n",
       "  </thead>\n",
       "  <tbody>\n",
       "    <tr>\n",
       "      <th>0</th>\n",
       "      <td>TCS</td>\n",
       "      <td>20.0</td>\n",
       "      <td>NaN</td>\n",
       "      <td>Chennai</td>\n",
       "      <td>India</td>\n",
       "      <td>0</td>\n",
       "    </tr>\n",
       "    <tr>\n",
       "      <th>1</th>\n",
       "      <td>Infosys</td>\n",
       "      <td>30.0</td>\n",
       "      <td>NaN</td>\n",
       "      <td>Mumbai</td>\n",
       "      <td>India</td>\n",
       "      <td>0</td>\n",
       "    </tr>\n",
       "    <tr>\n",
       "      <th>2</th>\n",
       "      <td>TCS</td>\n",
       "      <td>35.0</td>\n",
       "      <td>2300.0</td>\n",
       "      <td>Calcutta</td>\n",
       "      <td>India</td>\n",
       "      <td>0</td>\n",
       "    </tr>\n",
       "    <tr>\n",
       "      <th>3</th>\n",
       "      <td>Infosys</td>\n",
       "      <td>40.0</td>\n",
       "      <td>3000.0</td>\n",
       "      <td>Delhi</td>\n",
       "      <td>India</td>\n",
       "      <td>0</td>\n",
       "    </tr>\n",
       "    <tr>\n",
       "      <th>4</th>\n",
       "      <td>TCS</td>\n",
       "      <td>23.0</td>\n",
       "      <td>4000.0</td>\n",
       "      <td>Mumbai</td>\n",
       "      <td>India</td>\n",
       "      <td>0</td>\n",
       "    </tr>\n",
       "    <tr>\n",
       "      <th>...</th>\n",
       "      <td>...</td>\n",
       "      <td>...</td>\n",
       "      <td>...</td>\n",
       "      <td>...</td>\n",
       "      <td>...</td>\n",
       "      <td>...</td>\n",
       "    </tr>\n",
       "    <tr>\n",
       "      <th>143</th>\n",
       "      <td>TCS</td>\n",
       "      <td>33.0</td>\n",
       "      <td>9024.0</td>\n",
       "      <td>Calcutta</td>\n",
       "      <td>India</td>\n",
       "      <td>1</td>\n",
       "    </tr>\n",
       "    <tr>\n",
       "      <th>144</th>\n",
       "      <td>Infosys</td>\n",
       "      <td>22.0</td>\n",
       "      <td>8787.0</td>\n",
       "      <td>Calcutta</td>\n",
       "      <td>India</td>\n",
       "      <td>1</td>\n",
       "    </tr>\n",
       "    <tr>\n",
       "      <th>145</th>\n",
       "      <td>Infosys</td>\n",
       "      <td>44.0</td>\n",
       "      <td>4034.0</td>\n",
       "      <td>Delhi</td>\n",
       "      <td>India</td>\n",
       "      <td>1</td>\n",
       "    </tr>\n",
       "    <tr>\n",
       "      <th>146</th>\n",
       "      <td>TCS</td>\n",
       "      <td>33.0</td>\n",
       "      <td>5034.0</td>\n",
       "      <td>Mumbai</td>\n",
       "      <td>India</td>\n",
       "      <td>1</td>\n",
       "    </tr>\n",
       "    <tr>\n",
       "      <th>147</th>\n",
       "      <td>Infosys</td>\n",
       "      <td>22.0</td>\n",
       "      <td>8202.0</td>\n",
       "      <td>Cochin</td>\n",
       "      <td>India</td>\n",
       "      <td>0</td>\n",
       "    </tr>\n",
       "  </tbody>\n",
       "</table>\n",
       "<p>148 rows × 6 columns</p>\n",
       "</div>"
      ],
      "text/plain": [
       "     Company   Age  Salary     Place Country  Gender\n",
       "0        TCS  20.0     NaN   Chennai   India       0\n",
       "1    Infosys  30.0     NaN    Mumbai   India       0\n",
       "2        TCS  35.0  2300.0  Calcutta   India       0\n",
       "3    Infosys  40.0  3000.0     Delhi   India       0\n",
       "4        TCS  23.0  4000.0    Mumbai   India       0\n",
       "..       ...   ...     ...       ...     ...     ...\n",
       "143      TCS  33.0  9024.0  Calcutta   India       1\n",
       "144  Infosys  22.0  8787.0  Calcutta   India       1\n",
       "145  Infosys  44.0  4034.0     Delhi   India       1\n",
       "146      TCS  33.0  5034.0    Mumbai   India       1\n",
       "147  Infosys  22.0  8202.0    Cochin   India       0\n",
       "\n",
       "[148 rows x 6 columns]"
      ]
     },
     "execution_count": 81,
     "metadata": {},
     "output_type": "execute_result"
    }
   ],
   "source": [
    "df"
   ]
  },
  {
   "cell_type": "code",
   "execution_count": 82,
   "id": "44682233-710e-4662-9e59-6004a81dac20",
   "metadata": {},
   "outputs": [
    {
     "name": "stdout",
     "output_type": "stream",
     "text": [
      "<class 'pandas.core.frame.DataFrame'>\n",
      "RangeIndex: 148 entries, 0 to 147\n",
      "Data columns (total 6 columns):\n",
      " #   Column   Non-Null Count  Dtype  \n",
      "---  ------   --------------  -----  \n",
      " 0   Company  140 non-null    object \n",
      " 1   Age      130 non-null    float64\n",
      " 2   Salary   124 non-null    float64\n",
      " 3   Place    134 non-null    object \n",
      " 4   Country  148 non-null    object \n",
      " 5   Gender   148 non-null    int64  \n",
      "dtypes: float64(2), int64(1), object(3)\n",
      "memory usage: 7.1+ KB\n"
     ]
    }
   ],
   "source": [
    "df.info()"
   ]
  },
  {
   "cell_type": "markdown",
   "id": "8bb46b9e-7589-44f1-8b32-73a20a88643d",
   "metadata": {},
   "source": [
    "## Data Exploring "
   ]
  },
  {
   "cell_type": "code",
   "execution_count": 83,
   "id": "4e301547-5143-4fdc-947e-9b6ea9b8bf8d",
   "metadata": {},
   "outputs": [
    {
     "data": {
      "text/plain": [
       "Index(['Company', 'Age', 'Salary', 'Place', 'Country', 'Gender'], dtype='object')"
      ]
     },
     "execution_count": 83,
     "metadata": {},
     "output_type": "execute_result"
    }
   ],
   "source": [
    "df.columns"
   ]
  },
  {
   "cell_type": "code",
   "execution_count": 84,
   "id": "6a6e2798-7a2a-499e-95ee-76b365819109",
   "metadata": {},
   "outputs": [
    {
     "name": "stdout",
     "output_type": "stream",
     "text": [
      "First few rows of the DataFrame:\n",
      "   Company   Age  Salary     Place Country  Gender\n",
      "0      TCS  20.0     NaN   Chennai   India       0\n",
      "1  Infosys  30.0     NaN    Mumbai   India       0\n",
      "2      TCS  35.0  2300.0  Calcutta   India       0\n",
      "3  Infosys  40.0  3000.0     Delhi   India       0\n",
      "4      TCS  23.0  4000.0    Mumbai   India       0\n"
     ]
    }
   ],
   "source": [
    "print(\"First few rows of the DataFrame:\")\n",
    "print(df.head())"
   ]
  },
  {
   "cell_type": "code",
   "execution_count": 85,
   "id": "1f12a6e2-bfb7-4fc8-a1ef-2f5feb97cc0c",
   "metadata": {},
   "outputs": [
    {
     "name": "stdout",
     "output_type": "stream",
     "text": [
      "\n",
      "Data types of columns:\n",
      "Company     object\n",
      "Age        float64\n",
      "Salary     float64\n",
      "Place       object\n",
      "Country     object\n",
      "Gender       int64\n",
      "dtype: object\n"
     ]
    }
   ],
   "source": [
    "print(\"\\nData types of columns:\")\n",
    "print(df.dtypes)"
   ]
  },
  {
   "cell_type": "code",
   "execution_count": 86,
   "id": "ad69eb53-6b65-4b00-bc1c-c9d211711845",
   "metadata": {},
   "outputs": [],
   "source": [
    "# Column renaming\n",
    "df = df.rename(columns={'Place': 'State'})\n"
   ]
  },
  {
   "cell_type": "code",
   "execution_count": 87,
   "id": "eeba5912-0324-4527-a415-033ea5178f1c",
   "metadata": {},
   "outputs": [
    {
     "name": "stdout",
     "output_type": "stream",
     "text": [
      "\n",
      "Missing values:\n",
      "Company     8\n",
      "Age        18\n",
      "Salary     24\n",
      "State      14\n",
      "Country     0\n",
      "Gender      0\n",
      "dtype: int64\n"
     ]
    }
   ],
   "source": [
    "print(\"\\nMissing values:\")\n",
    "print(df.isnull().sum())"
   ]
  },
  {
   "cell_type": "markdown",
   "id": "b3dd69ac-bc10-452b-8d00-527aeae2ae58",
   "metadata": {},
   "source": [
    "There are null values for company,age,salary and place features."
   ]
  },
  {
   "cell_type": "code",
   "execution_count": 88,
   "id": "77c82670-5150-440e-8deb-f4b2aa0156af",
   "metadata": {},
   "outputs": [
    {
     "name": "stdout",
     "output_type": "stream",
     "text": [
      "\n",
      "Unique values in each feature and their lengths:\n",
      "Company: ['TCS' 'Infosys' 'CTS' nan 'Tata Consultancy Services' 'Congnizant'\n",
      " 'Infosys Pvt Lmt'] (length: 7)\n",
      "Age: [20. 30. 35. 40. 23. nan 34. 45. 18. 22. 32. 37. 50. 21. 46. 36. 26. 41.\n",
      " 24. 25. 43. 19. 38. 51. 31. 44. 33. 17.  0. 54.] (length: 30)\n",
      "Salary: [  nan 2300. 3000. 4000. 5000. 6000. 7000. 8000. 9000. 1089. 1234. 3030.\n",
      " 3045. 3184. 4824. 5835. 7084. 8943. 8345. 9284. 9876. 2034. 7654. 2934.\n",
      " 4034. 5034. 8202. 9024. 4345. 6544. 6543. 3234. 4324. 5435. 5555. 8787.\n",
      " 3454. 5654. 5009. 5098. 3033.] (length: 41)\n",
      "State: ['Chennai' 'Mumbai' 'Calcutta' 'Delhi' 'Podicherry' 'Cochin' nan 'Noida'\n",
      " 'Hyderabad' 'Bhopal' 'Nagpur' 'Pune'] (length: 12)\n",
      "Country: ['India'] (length: 1)\n",
      "Gender: [0 1] (length: 2)\n"
     ]
    }
   ],
   "source": [
    "# Listing unique values in each feature and finding its length\n",
    "print(\"\\nUnique values in each feature and their lengths:\")\n",
    "for column in df.columns:\n",
    "    unique_values = df[column].unique()\n",
    "    print(f\"{column}: {unique_values} (length: {len(unique_values)})\")"
   ]
  },
  {
   "cell_type": "code",
   "execution_count": 89,
   "id": "42b5d743-4956-48e7-8c6f-599dbaab7e52",
   "metadata": {},
   "outputs": [
    {
     "name": "stdout",
     "output_type": "stream",
     "text": [
      "\n",
      "Statistical Summary:\n"
     ]
    },
    {
     "data": {
      "text/html": [
       "<div>\n",
       "<style scoped>\n",
       "    .dataframe tbody tr th:only-of-type {\n",
       "        vertical-align: middle;\n",
       "    }\n",
       "\n",
       "    .dataframe tbody tr th {\n",
       "        vertical-align: top;\n",
       "    }\n",
       "\n",
       "    .dataframe thead th {\n",
       "        text-align: right;\n",
       "    }\n",
       "</style>\n",
       "<table border=\"1\" class=\"dataframe\">\n",
       "  <thead>\n",
       "    <tr style=\"text-align: right;\">\n",
       "      <th></th>\n",
       "      <th>Age</th>\n",
       "      <th>Salary</th>\n",
       "      <th>Gender</th>\n",
       "    </tr>\n",
       "  </thead>\n",
       "  <tbody>\n",
       "    <tr>\n",
       "      <th>count</th>\n",
       "      <td>130.000000</td>\n",
       "      <td>124.000000</td>\n",
       "      <td>148.000000</td>\n",
       "    </tr>\n",
       "    <tr>\n",
       "      <th>mean</th>\n",
       "      <td>30.484615</td>\n",
       "      <td>5312.467742</td>\n",
       "      <td>0.222973</td>\n",
       "    </tr>\n",
       "    <tr>\n",
       "      <th>std</th>\n",
       "      <td>11.096640</td>\n",
       "      <td>2573.764683</td>\n",
       "      <td>0.417654</td>\n",
       "    </tr>\n",
       "    <tr>\n",
       "      <th>min</th>\n",
       "      <td>0.000000</td>\n",
       "      <td>1089.000000</td>\n",
       "      <td>0.000000</td>\n",
       "    </tr>\n",
       "    <tr>\n",
       "      <th>25%</th>\n",
       "      <td>22.000000</td>\n",
       "      <td>3030.000000</td>\n",
       "      <td>0.000000</td>\n",
       "    </tr>\n",
       "    <tr>\n",
       "      <th>50%</th>\n",
       "      <td>32.500000</td>\n",
       "      <td>5000.000000</td>\n",
       "      <td>0.000000</td>\n",
       "    </tr>\n",
       "    <tr>\n",
       "      <th>75%</th>\n",
       "      <td>37.750000</td>\n",
       "      <td>8000.000000</td>\n",
       "      <td>0.000000</td>\n",
       "    </tr>\n",
       "    <tr>\n",
       "      <th>max</th>\n",
       "      <td>54.000000</td>\n",
       "      <td>9876.000000</td>\n",
       "      <td>1.000000</td>\n",
       "    </tr>\n",
       "  </tbody>\n",
       "</table>\n",
       "</div>"
      ],
      "text/plain": [
       "              Age       Salary      Gender\n",
       "count  130.000000   124.000000  148.000000\n",
       "mean    30.484615  5312.467742    0.222973\n",
       "std     11.096640  2573.764683    0.417654\n",
       "min      0.000000  1089.000000    0.000000\n",
       "25%     22.000000  3030.000000    0.000000\n",
       "50%     32.500000  5000.000000    0.000000\n",
       "75%     37.750000  8000.000000    0.000000\n",
       "max     54.000000  9876.000000    1.000000"
      ]
     },
     "execution_count": 89,
     "metadata": {},
     "output_type": "execute_result"
    }
   ],
   "source": [
    "# Statistical summary\n",
    "print(\"\\nStatistical Summary:\")\n",
    "df.describe()"
   ]
  },
  {
   "cell_type": "code",
   "execution_count": 90,
   "id": "7ea15aa8-9e27-4bd8-b589-1c3aec64652f",
   "metadata": {},
   "outputs": [
    {
     "data": {
      "image/png": "[encoded data removed]",
      "text/plain": [
       "<Figure size 640x480 with 1 Axes>"
      ]
     },
     "metadata": {},
     "output_type": "display_data"
    }
   ],
   "source": [
    "# Checking the presence of outliers by plotting\n",
    "import matplotlib.pyplot as plt\n",
    "plt.figure()\n",
    "df.boxplot()\n",
    "plt.title('Box plot of numerical columns')\n",
    "plt.xticks()\n",
    "plt.show()"
   ]
  },
  {
   "cell_type": "markdown",
   "id": "53f773a0-5d00-40f0-8c9f-00efa5f9a6c2",
   "metadata": {},
   "source": [
    "From the above plot it is clear that there is no noticable outliers present in either of the numerical columns.\n"
   ]
  },
  {
   "cell_type": "markdown",
   "id": "3d025b66-1774-41d2-8598-281d610d02ee",
   "metadata": {},
   "source": [
    "## Data Cleaning\n"
   ]
  },
  {
   "cell_type": "code",
   "execution_count": 91,
   "id": "91b662ae-0325-45c2-8976-7c34d6a545a3",
   "metadata": {},
   "outputs": [
    {
     "data": {
      "text/plain": [
       "Age\n",
       "False    130\n",
       "True      18\n",
       "Name: count, dtype: int64"
      ]
     },
     "execution_count": 91,
     "metadata": {},
     "output_type": "execute_result"
    }
   ],
   "source": [
    "df['Age'].isnull().value_counts()"
   ]
  },
  {
   "cell_type": "markdown",
   "id": "03eafd4d-4f16-490e-a326-01eebc6b4f42",
   "metadata": {},
   "source": [
    "#Total 18 null values"
   ]
  },
  {
   "cell_type": "code",
   "execution_count": 92,
   "id": "b7fa48cd-f719-4bea-acf6-7a059da0fe67",
   "metadata": {},
   "outputs": [
    {
     "name": "stdout",
     "output_type": "stream",
     "text": [
      "The 'age' column contains zeros.\n"
     ]
    }
   ],
   "source": [
    "# Check if 'age' column contains any zeros\n",
    "if (df['Age'] == 0).any():\n",
    "    print(\"The 'age' column contains zeros.\")\n",
    "else:\n",
    "    print(\"The 'age' column does not contain zeros.\")"
   ]
  },
  {
   "cell_type": "code",
   "execution_count": 93,
   "id": "0c0e7e14-a415-45c6-9fc7-dadd69869fd8",
   "metadata": {},
   "outputs": [
    {
     "name": "stdout",
     "output_type": "stream",
     "text": [
      "Age\n",
      "False    142\n",
      "True       6\n",
      "Name: count, dtype: int64\n"
     ]
    }
   ],
   "source": [
    "# Count occurrences of the value 0 in the 'Age' column\n",
    "value_counts =( df['Age']==0).value_counts()\n",
    "\n",
    "# Display the counts\n",
    "print(value_counts)"
   ]
  },
  {
   "cell_type": "code",
   "execution_count": 94,
   "id": "00764c24-3b6a-4567-972d-1d6d73c8fd09",
   "metadata": {},
   "outputs": [],
   "source": [
    "#Replacing 0 with NaN \n",
    "df['Age'] = df['Age'].replace(0, float('NaN'))"
   ]
  },
  {
   "cell_type": "markdown",
   "id": "e5746fe9-6175-4332-af33-e3ed9d9e58d5",
   "metadata": {},
   "source": [
    "There are 6 zero entries in Age column"
   ]
  },
  {
   "cell_type": "code",
   "execution_count": 95,
   "id": "674fdffe-dc1d-4335-8a2a-c13a7a3a1757",
   "metadata": {},
   "outputs": [
    {
     "data": {
      "text/html": [
       "<div>\n",
       "<style scoped>\n",
       "    .dataframe tbody tr th:only-of-type {\n",
       "        vertical-align: middle;\n",
       "    }\n",
       "\n",
       "    .dataframe tbody tr th {\n",
       "        vertical-align: top;\n",
       "    }\n",
       "\n",
       "    .dataframe thead th {\n",
       "        text-align: right;\n",
       "    }\n",
       "</style>\n",
       "<table border=\"1\" class=\"dataframe\">\n",
       "  <thead>\n",
       "    <tr style=\"text-align: right;\">\n",
       "      <th></th>\n",
       "      <th>Company</th>\n",
       "      <th>Age</th>\n",
       "      <th>Salary</th>\n",
       "      <th>State</th>\n",
       "      <th>Country</th>\n",
       "      <th>Gender</th>\n",
       "    </tr>\n",
       "  </thead>\n",
       "  <tbody>\n",
       "    <tr>\n",
       "      <th>5</th>\n",
       "      <td>Infosys</td>\n",
       "      <td>NaN</td>\n",
       "      <td>5000.0</td>\n",
       "      <td>Calcutta</td>\n",
       "      <td>India</td>\n",
       "      <td>0</td>\n",
       "    </tr>\n",
       "    <tr>\n",
       "      <th>6</th>\n",
       "      <td>TCS</td>\n",
       "      <td>NaN</td>\n",
       "      <td>6000.0</td>\n",
       "      <td>Chennai</td>\n",
       "      <td>India</td>\n",
       "      <td>1</td>\n",
       "    </tr>\n",
       "    <tr>\n",
       "      <th>23</th>\n",
       "      <td>Infosys</td>\n",
       "      <td>NaN</td>\n",
       "      <td>5835.0</td>\n",
       "      <td>Cochin</td>\n",
       "      <td>India</td>\n",
       "      <td>0</td>\n",
       "    </tr>\n",
       "    <tr>\n",
       "      <th>24</th>\n",
       "      <td>TCS</td>\n",
       "      <td>NaN</td>\n",
       "      <td>7084.0</td>\n",
       "      <td>Chennai</td>\n",
       "      <td>India</td>\n",
       "      <td>1</td>\n",
       "    </tr>\n",
       "    <tr>\n",
       "      <th>41</th>\n",
       "      <td>Infosys</td>\n",
       "      <td>NaN</td>\n",
       "      <td>5000.0</td>\n",
       "      <td>NaN</td>\n",
       "      <td>India</td>\n",
       "      <td>0</td>\n",
       "    </tr>\n",
       "    <tr>\n",
       "      <th>42</th>\n",
       "      <td>TCS</td>\n",
       "      <td>NaN</td>\n",
       "      <td>6000.0</td>\n",
       "      <td>NaN</td>\n",
       "      <td>India</td>\n",
       "      <td>0</td>\n",
       "    </tr>\n",
       "    <tr>\n",
       "      <th>59</th>\n",
       "      <td>Infosys</td>\n",
       "      <td>NaN</td>\n",
       "      <td>5835.0</td>\n",
       "      <td>Mumbai</td>\n",
       "      <td>India</td>\n",
       "      <td>0</td>\n",
       "    </tr>\n",
       "    <tr>\n",
       "      <th>60</th>\n",
       "      <td>TCS</td>\n",
       "      <td>NaN</td>\n",
       "      <td>7084.0</td>\n",
       "      <td>Calcutta</td>\n",
       "      <td>India</td>\n",
       "      <td>0</td>\n",
       "    </tr>\n",
       "    <tr>\n",
       "      <th>77</th>\n",
       "      <td>Infosys</td>\n",
       "      <td>NaN</td>\n",
       "      <td>5000.0</td>\n",
       "      <td>Hyderabad</td>\n",
       "      <td>India</td>\n",
       "      <td>0</td>\n",
       "    </tr>\n",
       "    <tr>\n",
       "      <th>78</th>\n",
       "      <td>TCS</td>\n",
       "      <td>NaN</td>\n",
       "      <td>6000.0</td>\n",
       "      <td>Calcutta</td>\n",
       "      <td>India</td>\n",
       "      <td>0</td>\n",
       "    </tr>\n",
       "    <tr>\n",
       "      <th>88</th>\n",
       "      <td>Infosys</td>\n",
       "      <td>NaN</td>\n",
       "      <td>3030.0</td>\n",
       "      <td>Calcutta</td>\n",
       "      <td>India</td>\n",
       "      <td>0</td>\n",
       "    </tr>\n",
       "    <tr>\n",
       "      <th>92</th>\n",
       "      <td>TCS</td>\n",
       "      <td>NaN</td>\n",
       "      <td>3045.0</td>\n",
       "      <td>Delhi</td>\n",
       "      <td>India</td>\n",
       "      <td>0</td>\n",
       "    </tr>\n",
       "    <tr>\n",
       "      <th>95</th>\n",
       "      <td>Infosys</td>\n",
       "      <td>NaN</td>\n",
       "      <td>5835.0</td>\n",
       "      <td>Chennai</td>\n",
       "      <td>India</td>\n",
       "      <td>0</td>\n",
       "    </tr>\n",
       "    <tr>\n",
       "      <th>96</th>\n",
       "      <td>TCS</td>\n",
       "      <td>NaN</td>\n",
       "      <td>7084.0</td>\n",
       "      <td>Mumbai</td>\n",
       "      <td>India</td>\n",
       "      <td>1</td>\n",
       "    </tr>\n",
       "    <tr>\n",
       "      <th>101</th>\n",
       "      <td>CTS</td>\n",
       "      <td>NaN</td>\n",
       "      <td>2034.0</td>\n",
       "      <td>Podicherry</td>\n",
       "      <td>India</td>\n",
       "      <td>0</td>\n",
       "    </tr>\n",
       "    <tr>\n",
       "      <th>107</th>\n",
       "      <td>TCS</td>\n",
       "      <td>NaN</td>\n",
       "      <td>9024.0</td>\n",
       "      <td>Chennai</td>\n",
       "      <td>India</td>\n",
       "      <td>1</td>\n",
       "    </tr>\n",
       "    <tr>\n",
       "      <th>111</th>\n",
       "      <td>Infosys</td>\n",
       "      <td>NaN</td>\n",
       "      <td>3234.0</td>\n",
       "      <td>Mumbai</td>\n",
       "      <td>India</td>\n",
       "      <td>0</td>\n",
       "    </tr>\n",
       "    <tr>\n",
       "      <th>113</th>\n",
       "      <td>Infosys</td>\n",
       "      <td>NaN</td>\n",
       "      <td>5435.0</td>\n",
       "      <td>Chennai</td>\n",
       "      <td>India</td>\n",
       "      <td>0</td>\n",
       "    </tr>\n",
       "    <tr>\n",
       "      <th>114</th>\n",
       "      <td>TCS</td>\n",
       "      <td>NaN</td>\n",
       "      <td>5555.0</td>\n",
       "      <td>Mumbai</td>\n",
       "      <td>India</td>\n",
       "      <td>0</td>\n",
       "    </tr>\n",
       "    <tr>\n",
       "      <th>121</th>\n",
       "      <td>CTS</td>\n",
       "      <td>NaN</td>\n",
       "      <td>1234.0</td>\n",
       "      <td>Calcutta</td>\n",
       "      <td>India</td>\n",
       "      <td>0</td>\n",
       "    </tr>\n",
       "    <tr>\n",
       "      <th>123</th>\n",
       "      <td>NaN</td>\n",
       "      <td>NaN</td>\n",
       "      <td>3454.0</td>\n",
       "      <td>Calcutta</td>\n",
       "      <td>India</td>\n",
       "      <td>0</td>\n",
       "    </tr>\n",
       "    <tr>\n",
       "      <th>131</th>\n",
       "      <td>Infosys</td>\n",
       "      <td>NaN</td>\n",
       "      <td>5835.0</td>\n",
       "      <td>Mumbai</td>\n",
       "      <td>India</td>\n",
       "      <td>0</td>\n",
       "    </tr>\n",
       "    <tr>\n",
       "      <th>132</th>\n",
       "      <td>TCS</td>\n",
       "      <td>NaN</td>\n",
       "      <td>7084.0</td>\n",
       "      <td>Cochin</td>\n",
       "      <td>India</td>\n",
       "      <td>1</td>\n",
       "    </tr>\n",
       "    <tr>\n",
       "      <th>136</th>\n",
       "      <td>NaN</td>\n",
       "      <td>NaN</td>\n",
       "      <td>NaN</td>\n",
       "      <td>Delhi</td>\n",
       "      <td>India</td>\n",
       "      <td>0</td>\n",
       "    </tr>\n",
       "  </tbody>\n",
       "</table>\n",
       "</div>"
      ],
      "text/plain": [
       "     Company  Age  Salary       State Country  Gender\n",
       "5    Infosys  NaN  5000.0    Calcutta   India       0\n",
       "6        TCS  NaN  6000.0     Chennai   India       1\n",
       "23   Infosys  NaN  5835.0      Cochin   India       0\n",
       "24       TCS  NaN  7084.0     Chennai   India       1\n",
       "41   Infosys  NaN  5000.0         NaN   India       0\n",
       "42       TCS  NaN  6000.0         NaN   India       0\n",
       "59   Infosys  NaN  5835.0      Mumbai   India       0\n",
       "60       TCS  NaN  7084.0    Calcutta   India       0\n",
       "77   Infosys  NaN  5000.0   Hyderabad   India       0\n",
       "78       TCS  NaN  6000.0    Calcutta   India       0\n",
       "88   Infosys  NaN  3030.0    Calcutta   India       0\n",
       "92       TCS  NaN  3045.0       Delhi   India       0\n",
       "95   Infosys  NaN  5835.0     Chennai   India       0\n",
       "96       TCS  NaN  7084.0      Mumbai   India       1\n",
       "101      CTS  NaN  2034.0  Podicherry   India       0\n",
       "107      TCS  NaN  9024.0     Chennai   India       1\n",
       "111  Infosys  NaN  3234.0      Mumbai   India       0\n",
       "113  Infosys  NaN  5435.0     Chennai   India       0\n",
       "114      TCS  NaN  5555.0      Mumbai   India       0\n",
       "121      CTS  NaN  1234.0    Calcutta   India       0\n",
       "123      NaN  NaN  3454.0    Calcutta   India       0\n",
       "131  Infosys  NaN  5835.0      Mumbai   India       0\n",
       "132      TCS  NaN  7084.0      Cochin   India       1\n",
       "136      NaN  NaN     NaN       Delhi   India       0"
      ]
     },
     "execution_count": 95,
     "metadata": {},
     "output_type": "execute_result"
    }
   ],
   "source": [
    "df[df['Age'].isnull()]"
   ]
  },
  {
   "cell_type": "markdown",
   "id": "3ee37ad6-22aa-4a67-8922-24037a8ae591",
   "metadata": {},
   "source": [
    "Above are the rows corresponding to the null value under 'Age' column . SImilarly we can find the others too."
   ]
  },
  {
   "cell_type": "code",
   "execution_count": 96,
   "id": "ce18d465-054c-4390-9505-ef148542730d",
   "metadata": {},
   "outputs": [],
   "source": [
    "# Filling the missing values with mean.\n",
    "for column in df.columns:\n",
    "    if df[column].dtype != object:  # Exclude object type columns (non-numeric)\n",
    "        mean_value = df[column].mean()\n",
    "        df[column] = df[column].fillna(mean_value)"
   ]
  },
  {
   "cell_type": "code",
   "execution_count": 97,
   "id": "c9c9400d-5102-4cf5-a860-46ae629a339e",
   "metadata": {},
   "outputs": [
    {
     "data": {
      "text/plain": [
       "Company     8\n",
       "Age         0\n",
       "Salary      0\n",
       "State      14\n",
       "Country     0\n",
       "Gender      0\n",
       "dtype: int64"
      ]
     },
     "execution_count": 97,
     "metadata": {},
     "output_type": "execute_result"
    }
   ],
   "source": [
    "# Check the null values again\n",
    "df.isnull().sum()"
   ]
  },
  {
   "cell_type": "markdown",
   "id": "f30c8513-b8ce-4e79-a847-15816e191605",
   "metadata": {},
   "source": [
    "null values now exist only in place  and Company column"
   ]
  },
  {
   "cell_type": "code",
   "execution_count": 98,
   "id": "064548ad-3ca3-4a23-ae8a-552d5076d26d",
   "metadata": {},
   "outputs": [],
   "source": [
    "# Removing the null values from the categorical column with mode.\n",
    "mode_value=df['State'].mode()[0] # the mode method may return multiple values if there are ties, we use [0] to select the first mode value."
   ]
  },
  {
   "cell_type": "code",
   "execution_count": 99,
   "id": "3e999209-7062-4922-9314-61f12010542b",
   "metadata": {},
   "outputs": [],
   "source": [
    "# Fill the null values\n",
    "df['State'].fillna(mode_value,inplace=True)"
   ]
  },
  {
   "cell_type": "code",
   "execution_count": 100,
   "id": "68a9b8bb-2994-481b-8119-ef135001f62b",
   "metadata": {},
   "outputs": [
    {
     "data": {
      "text/plain": [
       "Company    8\n",
       "Age        0\n",
       "Salary     0\n",
       "State      0\n",
       "Country    0\n",
       "Gender     0\n",
       "dtype: int64"
      ]
     },
     "execution_count": 100,
     "metadata": {},
     "output_type": "execute_result"
    }
   ],
   "source": [
    "df.isnull().sum()"
   ]
  },
  {
   "cell_type": "code",
   "execution_count": 101,
   "id": "63f9dfa3-f40a-4a22-8cfd-7868a68efa90",
   "metadata": {},
   "outputs": [
    {
     "name": "stdout",
     "output_type": "stream",
     "text": [
      "Duplicate rows:\n",
      "     Company        Age       Salary     State Country  Gender\n",
      "84       CTS  43.000000  5312.467742    Mumbai   India       0\n",
      "130      TCS  21.000000  4824.000000    Mumbai   India       0\n",
      "131  Infosys  31.959677  5835.000000    Mumbai   India       0\n",
      "144  Infosys  22.000000  8787.000000  Calcutta   India       1\n"
     ]
    }
   ],
   "source": [
    "# Check for duplicate rows\n",
    "duplicates = df[df.duplicated()]\n",
    "\n",
    "# Display duplicate rows, if any\n",
    "print(\"Duplicate rows:\")\n",
    "print(duplicates)\n",
    "\n",
    "# Duplicate rows:\n",
    "#     Company   Age  Salary     Place Country  Gender\n",
    "#84       CTS  43.0  5000.0    Mumbai   India       0\n",
    "#130      TCS  21.0  4824.0    Mumbai   India       0\n",
    "#131  Infosys  33.0  5835.0    Mumbai   India       0\n",
    "#144  Infosys  22.0  8787.0  Calcutta   India       1\n",
    "\n",
    "# Dropping duplicates and resetting the index\n",
    "df=df.drop_duplicates()\n",
    "\n",
    "df=df.reset_index(drop=True)\n"
   ]
  },
  {
   "cell_type": "markdown",
   "id": "dd0549fb-1c1e-415d-9875-c4c162273280",
   "metadata": {},
   "source": [
    "## Analysing Data"
   ]
  },
  {
   "cell_type": "code",
   "execution_count": 102,
   "id": "30abe5b0-c374-4173-83b2-c60acbd1c434",
   "metadata": {},
   "outputs": [],
   "source": [
    "# Extracting data with age >40 and salary>5000\n",
    "filtered_data=df[(df['Age']>40) & (df['Salary']>5000)]"
   ]
  },
  {
   "cell_type": "code",
   "execution_count": 103,
   "id": "bd76d8ba-1d41-4cf4-aa21-4c63b41ab8da",
   "metadata": {},
   "outputs": [],
   "source": [
    "import matplotlib.pyplot as plt"
   ]
  },
  {
   "cell_type": "code",
   "execution_count": 104,
   "id": "66aee04a-06c9-4c20-8c3f-774f72f7d4fa",
   "metadata": {},
   "outputs": [
    {
     "data": {
      "image/png": "[encoded data removed]",
      "text/plain": [
       "<Figure size 640x480 with 1 Axes>"
      ]
     },
     "metadata": {},
     "output_type": "display_data"
    }
   ],
   "source": [
    "# Visualizing age and salary using scatterplot\n",
    "plt.figure()\n",
    "plt.scatter(filtered_data['Age'], filtered_data['Salary'])\n",
    "plt.title('Scatter Plot of Age vs Salary')\n",
    "plt.xlabel('Age')\n",
    "plt.ylabel('Salary')\n",
    "plt.grid(True)\n",
    "plt.show()"
   ]
  },
  {
   "cell_type": "markdown",
   "id": "1e093c18-cdc2-4ced-8874-87105a2d0646",
   "metadata": {},
   "source": [
    "Here , we can see at the age of 44 the salary is high and at 46 salary is low.\n",
    "so as the age is between 42-45 high salary"
   ]
  },
  {
   "cell_type": "code",
   "execution_count": 105,
   "id": "7bd54b0b-fd57-41ec-bd55-79210f1a5ce7",
   "metadata": {},
   "outputs": [],
   "source": [
    "# Counting the number of employees in each place and visualising it.\n",
    "employee_count=df['State'].value_counts()"
   ]
  },
  {
   "cell_type": "code",
   "execution_count": 106,
   "id": "a49a6016-0f5d-4db8-8ed7-c0af039ef844",
   "metadata": {},
   "outputs": [
    {
     "data": {
      "image/png": "[encoded data removed]",
      "text/plain": [
       "<Figure size 640x480 with 1 Axes>"
      ]
     },
     "metadata": {},
     "output_type": "display_data"
    }
   ],
   "source": [
    "employee_count.plot(kind='bar')\n",
    "plt.title('Number of People from Each State')\n",
    "plt.xlabel('State')\n",
    "plt.ylabel('Count')\n",
    "plt.xticks(rotation=45)\n",
    "plt.show()"
   ]
  },
  {
   "cell_type": "code",
   "execution_count": 107,
   "id": "15718835-788b-4a3b-8211-2acaed9b05c6",
   "metadata": {},
   "outputs": [
    {
     "data": {
      "image/png": "[encoded data removed]",
      "text/plain": [
       "<Figure size 640x480 with 1 Axes>"
      ]
     },
     "metadata": {},
     "output_type": "display_data"
    }
   ],
   "source": [
    "# Using plt.bar()\n",
    "\n",
    "plt.figure()\n",
    "plt.bar(employee_count.index, employee_count, color='green')\n",
    "plt.title('Number of People from Each State')\n",
    "plt.xlabel('State')\n",
    "plt.ylabel('Count')\n",
    "plt.xticks(rotation=45)\n",
    "plt.show()"
   ]
  },
  {
   "cell_type": "markdown",
   "id": "09f68d2f-78b9-4296-a615-8103cd3e6d2f",
   "metadata": {},
   "source": [
    "## Encoding Categorical Variable"
   ]
  },
  {
   "cell_type": "code",
   "execution_count": 108,
   "id": "9f1f07bd-749d-4649-9358-99aceca153e5",
   "metadata": {},
   "outputs": [],
   "source": [
    "import numpy as np"
   ]
  },
  {
   "cell_type": "code",
   "execution_count": 109,
   "id": "794ae643-ac78-42d3-89f4-7b68d59409fc",
   "metadata": {},
   "outputs": [
    {
     "data": {
      "text/html": [
       "<div>\n",
       "<style scoped>\n",
       "    .dataframe tbody tr th:only-of-type {\n",
       "        vertical-align: middle;\n",
       "    }\n",
       "\n",
       "    .dataframe tbody tr th {\n",
       "        vertical-align: top;\n",
       "    }\n",
       "\n",
       "    .dataframe thead th {\n",
       "        text-align: right;\n",
       "    }\n",
       "</style>\n",
       "<table border=\"1\" class=\"dataframe\">\n",
       "  <thead>\n",
       "    <tr style=\"text-align: right;\">\n",
       "      <th></th>\n",
       "      <th>Company</th>\n",
       "      <th>Age</th>\n",
       "      <th>Salary</th>\n",
       "      <th>State</th>\n",
       "      <th>Country</th>\n",
       "      <th>Gender</th>\n",
       "    </tr>\n",
       "  </thead>\n",
       "  <tbody>\n",
       "    <tr>\n",
       "      <th>0</th>\n",
       "      <td>TCS</td>\n",
       "      <td>20.0</td>\n",
       "      <td>5312.467742</td>\n",
       "      <td>Chennai</td>\n",
       "      <td>India</td>\n",
       "      <td>0</td>\n",
       "    </tr>\n",
       "    <tr>\n",
       "      <th>1</th>\n",
       "      <td>Infosys</td>\n",
       "      <td>30.0</td>\n",
       "      <td>5312.467742</td>\n",
       "      <td>Mumbai</td>\n",
       "      <td>India</td>\n",
       "      <td>0</td>\n",
       "    </tr>\n",
       "    <tr>\n",
       "      <th>2</th>\n",
       "      <td>TCS</td>\n",
       "      <td>35.0</td>\n",
       "      <td>2300.000000</td>\n",
       "      <td>Calcutta</td>\n",
       "      <td>India</td>\n",
       "      <td>0</td>\n",
       "    </tr>\n",
       "    <tr>\n",
       "      <th>3</th>\n",
       "      <td>Infosys</td>\n",
       "      <td>40.0</td>\n",
       "      <td>3000.000000</td>\n",
       "      <td>Delhi</td>\n",
       "      <td>India</td>\n",
       "      <td>0</td>\n",
       "    </tr>\n",
       "    <tr>\n",
       "      <th>4</th>\n",
       "      <td>TCS</td>\n",
       "      <td>23.0</td>\n",
       "      <td>4000.000000</td>\n",
       "      <td>Mumbai</td>\n",
       "      <td>India</td>\n",
       "      <td>0</td>\n",
       "    </tr>\n",
       "    <tr>\n",
       "      <th>...</th>\n",
       "      <td>...</td>\n",
       "      <td>...</td>\n",
       "      <td>...</td>\n",
       "      <td>...</td>\n",
       "      <td>...</td>\n",
       "      <td>...</td>\n",
       "    </tr>\n",
       "    <tr>\n",
       "      <th>139</th>\n",
       "      <td>Infosys Pvt Lmt</td>\n",
       "      <td>22.0</td>\n",
       "      <td>8202.000000</td>\n",
       "      <td>Mumbai</td>\n",
       "      <td>India</td>\n",
       "      <td>0</td>\n",
       "    </tr>\n",
       "    <tr>\n",
       "      <th>140</th>\n",
       "      <td>TCS</td>\n",
       "      <td>33.0</td>\n",
       "      <td>9024.000000</td>\n",
       "      <td>Calcutta</td>\n",
       "      <td>India</td>\n",
       "      <td>1</td>\n",
       "    </tr>\n",
       "    <tr>\n",
       "      <th>141</th>\n",
       "      <td>Infosys</td>\n",
       "      <td>44.0</td>\n",
       "      <td>4034.000000</td>\n",
       "      <td>Delhi</td>\n",
       "      <td>India</td>\n",
       "      <td>1</td>\n",
       "    </tr>\n",
       "    <tr>\n",
       "      <th>142</th>\n",
       "      <td>TCS</td>\n",
       "      <td>33.0</td>\n",
       "      <td>5034.000000</td>\n",
       "      <td>Mumbai</td>\n",
       "      <td>India</td>\n",
       "      <td>1</td>\n",
       "    </tr>\n",
       "    <tr>\n",
       "      <th>143</th>\n",
       "      <td>Infosys</td>\n",
       "      <td>22.0</td>\n",
       "      <td>8202.000000</td>\n",
       "      <td>Cochin</td>\n",
       "      <td>India</td>\n",
       "      <td>0</td>\n",
       "    </tr>\n",
       "  </tbody>\n",
       "</table>\n",
       "<p>144 rows × 6 columns</p>\n",
       "</div>"
      ],
      "text/plain": [
       "             Company   Age       Salary     State Country  Gender\n",
       "0                TCS  20.0  5312.467742   Chennai   India       0\n",
       "1            Infosys  30.0  5312.467742    Mumbai   India       0\n",
       "2                TCS  35.0  2300.000000  Calcutta   India       0\n",
       "3            Infosys  40.0  3000.000000     Delhi   India       0\n",
       "4                TCS  23.0  4000.000000    Mumbai   India       0\n",
       "..               ...   ...          ...       ...     ...     ...\n",
       "139  Infosys Pvt Lmt  22.0  8202.000000    Mumbai   India       0\n",
       "140              TCS  33.0  9024.000000  Calcutta   India       1\n",
       "141          Infosys  44.0  4034.000000     Delhi   India       1\n",
       "142              TCS  33.0  5034.000000    Mumbai   India       1\n",
       "143          Infosys  22.0  8202.000000    Cochin   India       0\n",
       "\n",
       "[144 rows x 6 columns]"
      ]
     },
     "execution_count": 109,
     "metadata": {},
     "output_type": "execute_result"
    }
   ],
   "source": [
    "df"
   ]
  },
  {
   "cell_type": "markdown",
   "id": "6428a531-ec9a-4602-990f-a0e02d8efaf0",
   "metadata": {},
   "source": [
    "Here the categorical variables are coming under 'Company','Place','Country'.\n",
    "We have to convert those categorical variables into numerical variables"
   ]
  },
  {
   "cell_type": "code",
   "execution_count": 110,
   "id": "41ad0782-a386-4f7e-be9a-f92932bc4a67",
   "metadata": {},
   "outputs": [
    {
     "data": {
      "text/html": [
       "<div>\n",
       "<style scoped>\n",
       "    .dataframe tbody tr th:only-of-type {\n",
       "        vertical-align: middle;\n",
       "    }\n",
       "\n",
       "    .dataframe tbody tr th {\n",
       "        vertical-align: top;\n",
       "    }\n",
       "\n",
       "    .dataframe thead th {\n",
       "        text-align: right;\n",
       "    }\n",
       "</style>\n",
       "<table border=\"1\" class=\"dataframe\">\n",
       "  <thead>\n",
       "    <tr style=\"text-align: right;\">\n",
       "      <th></th>\n",
       "      <th>Age</th>\n",
       "      <th>Salary</th>\n",
       "      <th>Gender</th>\n",
       "      <th>Company_CTS</th>\n",
       "      <th>Company_Congnizant</th>\n",
       "      <th>Company_Infosys</th>\n",
       "      <th>Company_Infosys Pvt Lmt</th>\n",
       "      <th>Company_TCS</th>\n",
       "      <th>Company_Tata Consultancy Services</th>\n",
       "      <th>State_Bhopal</th>\n",
       "      <th>...</th>\n",
       "      <th>State_Chennai</th>\n",
       "      <th>State_Cochin</th>\n",
       "      <th>State_Delhi</th>\n",
       "      <th>State_Hyderabad</th>\n",
       "      <th>State_Mumbai</th>\n",
       "      <th>State_Nagpur</th>\n",
       "      <th>State_Noida</th>\n",
       "      <th>State_Podicherry</th>\n",
       "      <th>State_Pune</th>\n",
       "      <th>Country_India</th>\n",
       "    </tr>\n",
       "  </thead>\n",
       "  <tbody>\n",
       "    <tr>\n",
       "      <th>0</th>\n",
       "      <td>20.0</td>\n",
       "      <td>5312.467742</td>\n",
       "      <td>0</td>\n",
       "      <td>False</td>\n",
       "      <td>False</td>\n",
       "      <td>False</td>\n",
       "      <td>False</td>\n",
       "      <td>True</td>\n",
       "      <td>False</td>\n",
       "      <td>False</td>\n",
       "      <td>...</td>\n",
       "      <td>True</td>\n",
       "      <td>False</td>\n",
       "      <td>False</td>\n",
       "      <td>False</td>\n",
       "      <td>False</td>\n",
       "      <td>False</td>\n",
       "      <td>False</td>\n",
       "      <td>False</td>\n",
       "      <td>False</td>\n",
       "      <td>True</td>\n",
       "    </tr>\n",
       "    <tr>\n",
       "      <th>1</th>\n",
       "      <td>30.0</td>\n",
       "      <td>5312.467742</td>\n",
       "      <td>0</td>\n",
       "      <td>False</td>\n",
       "      <td>False</td>\n",
       "      <td>True</td>\n",
       "      <td>False</td>\n",
       "      <td>False</td>\n",
       "      <td>False</td>\n",
       "      <td>False</td>\n",
       "      <td>...</td>\n",
       "      <td>False</td>\n",
       "      <td>False</td>\n",
       "      <td>False</td>\n",
       "      <td>False</td>\n",
       "      <td>True</td>\n",
       "      <td>False</td>\n",
       "      <td>False</td>\n",
       "      <td>False</td>\n",
       "      <td>False</td>\n",
       "      <td>True</td>\n",
       "    </tr>\n",
       "    <tr>\n",
       "      <th>2</th>\n",
       "      <td>35.0</td>\n",
       "      <td>2300.000000</td>\n",
       "      <td>0</td>\n",
       "      <td>False</td>\n",
       "      <td>False</td>\n",
       "      <td>False</td>\n",
       "      <td>False</td>\n",
       "      <td>True</td>\n",
       "      <td>False</td>\n",
       "      <td>False</td>\n",
       "      <td>...</td>\n",
       "      <td>False</td>\n",
       "      <td>False</td>\n",
       "      <td>False</td>\n",
       "      <td>False</td>\n",
       "      <td>False</td>\n",
       "      <td>False</td>\n",
       "      <td>False</td>\n",
       "      <td>False</td>\n",
       "      <td>False</td>\n",
       "      <td>True</td>\n",
       "    </tr>\n",
       "    <tr>\n",
       "      <th>3</th>\n",
       "      <td>40.0</td>\n",
       "      <td>3000.000000</td>\n",
       "      <td>0</td>\n",
       "      <td>False</td>\n",
       "      <td>False</td>\n",
       "      <td>True</td>\n",
       "      <td>False</td>\n",
       "      <td>False</td>\n",
       "      <td>False</td>\n",
       "      <td>False</td>\n",
       "      <td>...</td>\n",
       "      <td>False</td>\n",
       "      <td>False</td>\n",
       "      <td>True</td>\n",
       "      <td>False</td>\n",
       "      <td>False</td>\n",
       "      <td>False</td>\n",
       "      <td>False</td>\n",
       "      <td>False</td>\n",
       "      <td>False</td>\n",
       "      <td>True</td>\n",
       "    </tr>\n",
       "    <tr>\n",
       "      <th>4</th>\n",
       "      <td>23.0</td>\n",
       "      <td>4000.000000</td>\n",
       "      <td>0</td>\n",
       "      <td>False</td>\n",
       "      <td>False</td>\n",
       "      <td>False</td>\n",
       "      <td>False</td>\n",
       "      <td>True</td>\n",
       "      <td>False</td>\n",
       "      <td>False</td>\n",
       "      <td>...</td>\n",
       "      <td>False</td>\n",
       "      <td>False</td>\n",
       "      <td>False</td>\n",
       "      <td>False</td>\n",
       "      <td>True</td>\n",
       "      <td>False</td>\n",
       "      <td>False</td>\n",
       "      <td>False</td>\n",
       "      <td>False</td>\n",
       "      <td>True</td>\n",
       "    </tr>\n",
       "    <tr>\n",
       "      <th>...</th>\n",
       "      <td>...</td>\n",
       "      <td>...</td>\n",
       "      <td>...</td>\n",
       "      <td>...</td>\n",
       "      <td>...</td>\n",
       "      <td>...</td>\n",
       "      <td>...</td>\n",
       "      <td>...</td>\n",
       "      <td>...</td>\n",
       "      <td>...</td>\n",
       "      <td>...</td>\n",
       "      <td>...</td>\n",
       "      <td>...</td>\n",
       "      <td>...</td>\n",
       "      <td>...</td>\n",
       "      <td>...</td>\n",
       "      <td>...</td>\n",
       "      <td>...</td>\n",
       "      <td>...</td>\n",
       "      <td>...</td>\n",
       "      <td>...</td>\n",
       "    </tr>\n",
       "    <tr>\n",
       "      <th>139</th>\n",
       "      <td>22.0</td>\n",
       "      <td>8202.000000</td>\n",
       "      <td>0</td>\n",
       "      <td>False</td>\n",
       "      <td>False</td>\n",
       "      <td>False</td>\n",
       "      <td>True</td>\n",
       "      <td>False</td>\n",
       "      <td>False</td>\n",
       "      <td>False</td>\n",
       "      <td>...</td>\n",
       "      <td>False</td>\n",
       "      <td>False</td>\n",
       "      <td>False</td>\n",
       "      <td>False</td>\n",
       "      <td>True</td>\n",
       "      <td>False</td>\n",
       "      <td>False</td>\n",
       "      <td>False</td>\n",
       "      <td>False</td>\n",
       "      <td>True</td>\n",
       "    </tr>\n",
       "    <tr>\n",
       "      <th>140</th>\n",
       "      <td>33.0</td>\n",
       "      <td>9024.000000</td>\n",
       "      <td>1</td>\n",
       "      <td>False</td>\n",
       "      <td>False</td>\n",
       "      <td>False</td>\n",
       "      <td>False</td>\n",
       "      <td>True</td>\n",
       "      <td>False</td>\n",
       "      <td>False</td>\n",
       "      <td>...</td>\n",
       "      <td>False</td>\n",
       "      <td>False</td>\n",
       "      <td>False</td>\n",
       "      <td>False</td>\n",
       "      <td>False</td>\n",
       "      <td>False</td>\n",
       "      <td>False</td>\n",
       "      <td>False</td>\n",
       "      <td>False</td>\n",
       "      <td>True</td>\n",
       "    </tr>\n",
       "    <tr>\n",
       "      <th>141</th>\n",
       "      <td>44.0</td>\n",
       "      <td>4034.000000</td>\n",
       "      <td>1</td>\n",
       "      <td>False</td>\n",
       "      <td>False</td>\n",
       "      <td>True</td>\n",
       "      <td>False</td>\n",
       "      <td>False</td>\n",
       "      <td>False</td>\n",
       "      <td>False</td>\n",
       "      <td>...</td>\n",
       "      <td>False</td>\n",
       "      <td>False</td>\n",
       "      <td>True</td>\n",
       "      <td>False</td>\n",
       "      <td>False</td>\n",
       "      <td>False</td>\n",
       "      <td>False</td>\n",
       "      <td>False</td>\n",
       "      <td>False</td>\n",
       "      <td>True</td>\n",
       "    </tr>\n",
       "    <tr>\n",
       "      <th>142</th>\n",
       "      <td>33.0</td>\n",
       "      <td>5034.000000</td>\n",
       "      <td>1</td>\n",
       "      <td>False</td>\n",
       "      <td>False</td>\n",
       "      <td>False</td>\n",
       "      <td>False</td>\n",
       "      <td>True</td>\n",
       "      <td>False</td>\n",
       "      <td>False</td>\n",
       "      <td>...</td>\n",
       "      <td>False</td>\n",
       "      <td>False</td>\n",
       "      <td>False</td>\n",
       "      <td>False</td>\n",
       "      <td>True</td>\n",
       "      <td>False</td>\n",
       "      <td>False</td>\n",
       "      <td>False</td>\n",
       "      <td>False</td>\n",
       "      <td>True</td>\n",
       "    </tr>\n",
       "    <tr>\n",
       "      <th>143</th>\n",
       "      <td>22.0</td>\n",
       "      <td>8202.000000</td>\n",
       "      <td>0</td>\n",
       "      <td>False</td>\n",
       "      <td>False</td>\n",
       "      <td>True</td>\n",
       "      <td>False</td>\n",
       "      <td>False</td>\n",
       "      <td>False</td>\n",
       "      <td>False</td>\n",
       "      <td>...</td>\n",
       "      <td>False</td>\n",
       "      <td>True</td>\n",
       "      <td>False</td>\n",
       "      <td>False</td>\n",
       "      <td>False</td>\n",
       "      <td>False</td>\n",
       "      <td>False</td>\n",
       "      <td>False</td>\n",
       "      <td>False</td>\n",
       "      <td>True</td>\n",
       "    </tr>\n",
       "  </tbody>\n",
       "</table>\n",
       "<p>144 rows × 21 columns</p>\n",
       "</div>"
      ],
      "text/plain": [
       "      Age       Salary  Gender  Company_CTS  Company_Congnizant  \\\n",
       "0    20.0  5312.467742       0        False               False   \n",
       "1    30.0  5312.467742       0        False               False   \n",
       "2    35.0  2300.000000       0        False               False   \n",
       "3    40.0  3000.000000       0        False               False   \n",
       "4    23.0  4000.000000       0        False               False   \n",
       "..    ...          ...     ...          ...                 ...   \n",
       "139  22.0  8202.000000       0        False               False   \n",
       "140  33.0  9024.000000       1        False               False   \n",
       "141  44.0  4034.000000       1        False               False   \n",
       "142  33.0  5034.000000       1        False               False   \n",
       "143  22.0  8202.000000       0        False               False   \n",
       "\n",
       "     Company_Infosys  Company_Infosys Pvt Lmt  Company_TCS  \\\n",
       "0              False                    False         True   \n",
       "1               True                    False        False   \n",
       "2              False                    False         True   \n",
       "3               True                    False        False   \n",
       "4              False                    False         True   \n",
       "..               ...                      ...          ...   \n",
       "139            False                     True        False   \n",
       "140            False                    False         True   \n",
       "141             True                    False        False   \n",
       "142            False                    False         True   \n",
       "143             True                    False        False   \n",
       "\n",
       "     Company_Tata Consultancy Services  State_Bhopal  ...  State_Chennai  \\\n",
       "0                                False         False  ...           True   \n",
       "1                                False         False  ...          False   \n",
       "2                                False         False  ...          False   \n",
       "3                                False         False  ...          False   \n",
       "4                                False         False  ...          False   \n",
       "..                                 ...           ...  ...            ...   \n",
       "139                              False         False  ...          False   \n",
       "140                              False         False  ...          False   \n",
       "141                              False         False  ...          False   \n",
       "142                              False         False  ...          False   \n",
       "143                              False         False  ...          False   \n",
       "\n",
       "     State_Cochin  State_Delhi  State_Hyderabad  State_Mumbai  State_Nagpur  \\\n",
       "0           False        False            False         False         False   \n",
       "1           False        False            False          True         False   \n",
       "2           False        False            False         False         False   \n",
       "3           False         True            False         False         False   \n",
       "4           False        False            False          True         False   \n",
       "..            ...          ...              ...           ...           ...   \n",
       "139         False        False            False          True         False   \n",
       "140         False        False            False         False         False   \n",
       "141         False         True            False         False         False   \n",
       "142         False        False            False          True         False   \n",
       "143          True        False            False         False         False   \n",
       "\n",
       "     State_Noida  State_Podicherry  State_Pune  Country_India  \n",
       "0          False             False       False           True  \n",
       "1          False             False       False           True  \n",
       "2          False             False       False           True  \n",
       "3          False             False       False           True  \n",
       "4          False             False       False           True  \n",
       "..           ...               ...         ...            ...  \n",
       "139        False             False       False           True  \n",
       "140        False             False       False           True  \n",
       "141        False             False       False           True  \n",
       "142        False             False       False           True  \n",
       "143        False             False       False           True  \n",
       "\n",
       "[144 rows x 21 columns]"
      ]
     },
     "execution_count": 110,
     "metadata": {},
     "output_type": "execute_result"
    }
   ],
   "source": [
    "# One_hot_encoding using get dummies\n",
    "df_one_hot_encoding=pd.get_dummies(data=df,columns=[\"Company\",\"State\",\"Country\"])\n",
    "df_one_hot_encoding"
   ]
  },
  {
   "cell_type": "code",
   "execution_count": 111,
   "id": "b71d8dd2-7f46-4b2d-ac82-9997e0017dda",
   "metadata": {},
   "outputs": [
    {
     "ename": "SyntaxError",
     "evalue": "invalid syntax (1788153823.py, line 2)",
     "output_type": "error",
     "traceback": [
      "\u001b[1;36m  Cell \u001b[1;32mIn[111], line 2\u001b[1;36m\u001b[0m\n\u001b[1;33m    pip install scikit-learn\u001b[0m\n\u001b[1;37m        ^\u001b[0m\n\u001b[1;31mSyntaxError\u001b[0m\u001b[1;31m:\u001b[0m invalid syntax\n"
     ]
    }
   ],
   "source": [
    "# using sklearn module\n",
    "pip install scikit-learn"
   ]
  },
  {
   "cell_type": "code",
   "execution_count": null,
   "id": "457af108-c7ad-45bd-9618-bd558c5f577d",
   "metadata": {},
   "outputs": [],
   "source": [
    "pip show scikit-learn"
   ]
  },
  {
   "cell_type": "code",
   "execution_count": null,
   "id": "958bc2aa-06d4-42d9-80cc-ee135a9bb417",
   "metadata": {},
   "outputs": [],
   "source": [
    "pip install --upgrade pip"
   ]
  },
  {
   "cell_type": "code",
   "execution_count": null,
   "id": "52bf3fda-aff3-43a4-b3e2-b7a0f829d21f",
   "metadata": {},
   "outputs": [],
   "source": [
    "pip install scikit-learn"
   ]
  },
  {
   "cell_type": "code",
   "execution_count": null,
   "id": "bdef6de8-3b56-48a3-8db2-77265c1699c1",
   "metadata": {},
   "outputs": [],
   "source": [
    "from sklearn.preprocessing import OneHotEncoder"
   ]
  },
  {
   "cell_type": "code",
   "execution_count": null,
   "id": "ca977097-1855-4e8b-ab34-648db91aa4db",
   "metadata": {},
   "outputs": [],
   "source": [
    "df"
   ]
  },
  {
   "cell_type": "code",
   "execution_count": null,
   "id": "0b19f5ac-5003-44c1-b6cf-96641e51f508",
   "metadata": {},
   "outputs": [],
   "source": [
    "# Columns to encode\n",
    "cols_to_encode=['Company','State','Country']\n",
    "#line initializes an empty list named new_encoded_cols_names to store the new column names after encoding.\n",
    "new_encoded_cols_name=[]\n",
    "\n",
    "# Creating a list of new column names\n",
    "for col in cols_to_encode:\n",
    "   new_encoded_cols_name += [f\"is_{category}\" for category in df[col].unique().tolist()]\n",
    "\n",
    "print(new_encoded_cols_name)\n",
    "#['is_TCS', 'is_Infosys', 'is_CTS', 'is_nan', 'is_Tata Consultancy Services', 'is_Congnizant', 'is_Infosys Pvt Lmt', 'is_Chennai', 'is_Mumbai', 'is_Calcutta', 'is_Delhi', 'is_Podicherry', 'is_Cochin', 'is_nan', 'is_Noida', 'is_Hyderabad', 'is_Bhopal', 'is_Nagpur', 'is_Pune', 'is_India']\n",
    "\n",
    "# Inititalize and fit One Hot Encoder class from sklearn\n",
    "#initializes an instance of the OneHotEncoder class with parameters sparse=False and handle_unknown='ignore'.\n",
    "one_hot_encoder = OneHotEncoder(sparse = False, handle_unknown = 'ignore')\n",
    "\n",
    "# Fits the OneHotEncoder to the specified columns in the DataFrame df and transforms them into a one-hot encoded representation.\n",
    "encoded_cols = one_hot_encoder.fit_transform(df[cols_to_encode])\n",
    "\n",
    "# As the output of the above transformer would be a sparse matrix, we need to convert it back to Pandas dataframe\n",
    "#converts the encoded matrix (encoded_cols) into a pandas DataFrame with the specified column names (new_encoded_cols_names).\n",
    "df_encoded = pd.DataFrame(encoded_cols, columns = new_encoded_cols_names)\n",
    "\n",
    "# Joins the encoded DataFrame (df_encoded) with the original DataFrame (df) along the index axis.\n",
    "df_one_hot_encoded = df.join(df_encoded)\n",
    "\n",
    "# Prints the resulting DataFrame df_one_hot_encoded, which contains the original columns along with the new one-hot encoded columns.\n",
    "print(df_one_hot_encoded)\n"
   ]
  },
  {
   "cell_type": "markdown",
   "id": "c7a65b6c-9278-4250-93ee-6dc42c94c533",
   "metadata": {},
   "source": [
    "In scikit-learn version 0.24.0 and later, the sparse argument has been deprecated, and the sparse_output argument should be used instead."
   ]
  },
  {
   "cell_type": "code",
   "execution_count": null,
   "id": "ba5b0158-700d-4d23-9141-72cbb34235a4",
   "metadata": {},
   "outputs": [],
   "source": [
    "# Columns to encode\n",
    "cols_to_encode=['Company','State']\n",
    "\n",
    "# Line initializes an empty list named new_encoded_cols_names to store the new column names after encoding.\n",
    "new_encoded_cols_name=[]\n",
    "\n",
    "# Creating a list of new column names\n",
    "for col in cols_to_encode:\n",
    "   new_encoded_cols_name += [f\"is_{category}\" for category in df[col].unique().tolist()]\n",
    "\n",
    "print(new_encoded_cols_name)\n",
    "#['is_TCS', 'is_Infosys', 'is_CTS', 'is_nan', 'is_Tata Consultancy Services', 'is_Congnizant', 'is_Infosys Pvt Lmt', 'is_Chennai', 'is_Mumbai', 'is_Calcutta', 'is_Delhi', 'is_Podicherry', 'is_Cochin', 'is_nan', 'is_Noida', 'is_Hyderabad', 'is_Bhopal', 'is_Nagpur', 'is_Pune', 'is_India']\n",
    "\n",
    "# Inititalize and fit One Hot Encoder class from sklearn\n",
    "#initializes an instance of the OneHotEncoder class with parameters sparse=False and handle_unknown='ignore'.\n",
    "one_hot_encoder = OneHotEncoder(sparse_output = False, handle_unknown = 'ignore')\n",
    "\n",
    "# Fits the OneHotEncoder to the specified columns in the DataFrame df and transforms them into a one-hot encoded representation.\n",
    "encoded_cols = one_hot_encoder.fit_transform(df[cols_to_encode])\n",
    "\n",
    "# As the output of the above transformer would be a sparse matrix, we need to convert it back to Pandas dataframe\n",
    "#converts the encoded matrix (encoded_cols) into a pandas DataFrame with the specified column names (new_encoded_cols_names).\n",
    "df_encoded = pd.DataFrame(encoded_cols, columns = new_encoded_cols_name)\n",
    "\n",
    "# Joins the encoded DataFrame (df_encoded) with the original DataFrame (df) along the index axis.\n",
    "df_one_hot_encoded = df.join(df_encoded)\n",
    "\n",
    "# Prints the resulting DataFrame df_one_hot_encoded, which contains the original columns along with the new one-hot encoded columns.\n",
    "print(df_one_hot_encoded)"
   ]
  },
  {
   "cell_type": "code",
   "execution_count": null,
   "id": "52c11595-90ac-474e-8f93-6301136930a8",
   "metadata": {},
   "outputs": [],
   "source": [
    "# Label encoding using sklearn \n",
    "\n",
    "from sklearn.preprocessing import LabelEncoder\n",
    "label_encoder = LabelEncoder()\n",
    "#This line creates an instance of the LabelEncoder class, which will be used to encode categorical variables.\n",
    "\n",
    "for i in df:\n",
    "    df[i] = label_encoder.fit_transform(df[i])\n",
    "# This loop iterates over each column (i) in the DataFrame df. For each column,it applies the fit_transform method of the LabelEncoder object to encode the column's values with integer labels.\n",
    "# The original values in the column are replaced with their encoded integer labels."
   ]
  },
  {
   "cell_type": "code",
   "execution_count": null,
   "id": "19cd8561-df54-4223-946c-5d39efa0265c",
   "metadata": {},
   "outputs": [],
   "source": [
    "df.State.value_counts()"
   ]
  },
  {
   "cell_type": "code",
   "execution_count": null,
   "id": "0d089b3d-7571-4ab3-8716-2cf692d439dc",
   "metadata": {},
   "outputs": [],
   "source": [
    "df.Company.value_counts()"
   ]
  },
  {
   "cell_type": "markdown",
   "id": "5ae6e94d-7abc-487e-a7ae-d68b7c068aa6",
   "metadata": {},
   "source": [
    "After running this code, each categorical variable in the DataFrame df will be replaced with its corresponding integer labels.\n",
    "It's worth noting that LabelEncoder encodes each category with a unique integer label, but it does not consider any ordinal relationship between the categories. "
   ]
  },
  {
   "cell_type": "code",
   "execution_count": null,
   "id": "8a3afeb8-0331-40e4-9024-a34b5a2b2cc4",
   "metadata": {},
   "outputs": [],
   "source": [
    "df"
   ]
  },
  {
   "cell_type": "markdown",
   "id": "60621cef-df4e-464f-9258-df1702f5b8b1",
   "metadata": {},
   "source": [
    "## Feature Encoding"
   ]
  },
  {
   "cell_type": "code",
   "execution_count": null,
   "id": "e14b9955-2f31-4f2b-8e0c-0871d6f99515",
   "metadata": {},
   "outputs": [],
   "source": [
    "#using standard scaler method\n",
    "from sklearn.preprocessing import StandardScaler"
   ]
  },
  {
   "cell_type": "code",
   "execution_count": null,
   "id": "da07f668-0246-4fb4-a7f0-2d95e0af0a32",
   "metadata": {},
   "outputs": [],
   "source": [
    "# Create a scaler object\n",
    "scaler = StandardScaler()\n",
    "#This line creates an instance of the StandardScaler class, which will be used to scale the features in the DataFrame df\n",
    "\n",
    "# Fit the scaler on the data\n",
    "scaler.fit(df)\n",
    "#This line fits the scaler to the data in the DataFrame df. \n",
    "#The scaler calculates the mean and standard deviation of each feature (column) in the DataFrame, which will be used for scaling.\n",
    "\n",
    "# Transform the data\n",
    "scaled_data = scaler.transform(df)\n",
    "#This line transforms the original data in the DataFrame df using the parameters (mean and standard deviation) calculated during the fitting step. \n",
    "#The transformed data, scaled_data, contains standardized features.\n",
    "\n",
    "\n",
    "# Print the scaled data\n",
    "print(scaled_data)\n"
   ]
  },
  {
   "cell_type": "markdown",
   "id": "be76c67d-c9fb-43a6-9985-ccf5e3d1bb63",
   "metadata": {},
   "source": [
    "After running this code, the features in the DataFrame df will be scaled using standardization. Each feature will have a mean of 0 and a standard deviation of 1."
   ]
  },
  {
   "cell_type": "code",
   "execution_count": null,
   "id": "4ec99177-1963-4aed-86aa-64c95547dd54",
   "metadata": {},
   "outputs": [],
   "source": [
    "#using minmax method\n",
    "from sklearn.preprocessing import MinMaxScaler"
   ]
  },
  {
   "cell_type": "code",
   "execution_count": null,
   "id": "b1a9f2f7-4d01-4c84-a01d-da909318815c",
   "metadata": {},
   "outputs": [],
   "source": [
    "# Create a scaler object\n",
    "scaler = MinMaxScaler()\n",
    "\n",
    "# Fit the scaler on the data\n",
    "scaler.fit(df)\n",
    "#This line fits the scaler to the data in the DataFrame df. \n",
    "#The scaler calculates the minimum and maximum values of each feature (column) in the DataFrame, which will be used for scaling.\n",
    "\n",
    "# Transform the data\n",
    "scaled_data = scaler.transform(df)\n",
    "#This line transforms the original data in the DataFrame df using the minimum and maximum values calculated during the fitting step. \n",
    "#The transformed data, scaled_data, contains features scaled to the specified range.\n",
    "\n",
    "\n",
    "# Print the scaled data\n",
    "print(scaled_data)\n"
   ]
  },
  {
   "cell_type": "markdown",
   "id": "2420fe32-130d-486d-a8a4-a434ddc8b47e",
   "metadata": {},
   "source": [
    "After running this code, the features in the DataFrame df will be scaled using min-max scaling, where each feature will be scaled to a specified range (by default, between 0 and 1)."
   ]
  }
 ],
 "metadata": {
  "kernelspec": {
   "display_name": "Python 3 (ipykernel)",
   "language": "python",
   "name": "python3"
  },
  "language_info": {
   "codemirror_mode": {
    "name": "ipython",
    "version": 3
   },
   "file_extension": ".py",
   "mimetype": "text/x-python",
   "name": "python",
   "nbconvert_exporter": "python",
   "pygments_lexer": "ipython3",
   "version": "3.11.4"
  }
 },
 "nbformat": 4,
 "nbformat_minor": 5
}
