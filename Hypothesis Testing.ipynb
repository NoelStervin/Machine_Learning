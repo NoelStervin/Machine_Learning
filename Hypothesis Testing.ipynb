{
 "cells": [
  {
   "cell_type": "markdown",
   "id": "d5524ab3-c8d6-4393-b7c2-e86ab5918fc2",
   "metadata": {},
   "source": [
    "# MACHINE LEARNING"
   ]
  },
  {
   "cell_type": "markdown",
   "id": "03650fa9-47c8-49da-825d-392b5d901933",
   "metadata": {},
   "source": [
    "## TASK 2\n"
   ]
  },
  {
   "cell_type": "markdown",
   "id": "6aaa89d2-56fc-48e1-8828-f302fded1164",
   "metadata": {},
   "source": [
    "#### Hypothesis testing is a fundamental statistical method used to make inferences about populations based on sample data. It involves testing a hypothesis about a population parameter, such as a mean or proportion, using sample data.\n",
    "\n"
   ]
  },
  {
   "cell_type": "markdown",
   "id": "e54bb4ad-8e4a-43ee-ac7a-6445a53f8a79",
   "metadata": {},
   "source": [
    "####  Q1) Suppose a child psychologist claims that the average time working mothers spend talking to their children is at least 11 minutes per day. You conduct a random sample of 1000 working mothers and find they spend an average of 11.5 minutes per day talking with their children. Assume prior research suggests the population standard deviation is 2.3 minutes.Conduct a test with a level of significance of alpha = 0.05."
   ]
  },
  {
   "cell_type": "markdown",
   "id": "2e50e7af-6fec-4ea0-b9e2-eec77dd6882f",
   "metadata": {},
   "source": [
    "#### 1) Formulate Hypotheses:\n",
    "Null Hypothesis (H0): The average time working mothers spend talking to their children is 11 minutes or less per day. μ ≤ 11\n",
    "Alternative Hypothesis (Ha): The average time working mothers spend talking to their children is more than 11 minutes per day. μ > 11\n",
    "\n",
    "#### 2) Select Significance Level: \n",
    "α = 0.05\n",
    "\n",
    "#### 3) Collect Data: \n",
    "Sample size (n) = 1000, Sample mean (x̄) = 11.5 minutes, Population standard deviation (σ) = 2.3 minutesx\r\n",
    "ˉ\r\n",
    " −μ\r\n",
    "​\r\n"
   ]
  },
  {
   "cell_type": "markdown",
   "id": "626973f2-5696-4eb6-a8ad-945bb6f832df",
   "metadata": {},
   "source": [
    "#### 4) Compute Test Statistic:\n",
    "\n",
    "We'll use the z-test because we have the population standard deviation.\n",
    "The test statistic for a z-test is calculated a z=(x̄-μ)/(σ/√n)\n",
    "\n",
    "#### 5) Determine Critical Value or P-value:\n",
    "For a one-tailed test with α = 0.05, the critical value can be found using a standard normal distribution table. Since it's a right-tailed test, we're interested in the upper tail of the distribution.\n",
    "The critical value for α = 0.05 is approximately 1.64"
   ]
  },
  {
   "cell_type": "markdown",
   "id": "25ade1fb-37c1-46c6-8127-40f4223dbfb2",
   "metadata": {},
   "source": [
    "#### 6.Make Decision:\n",
    "\n",
    "If the calculated z-value is greater than 1.645, we reject the null hypothesis.\n",
    "If the calculated z-value is less than or equal to 1.645, we fail to reject the null hypothesis.5.σ\n",
    "\n",
    "\n",
    "​xˉ−μ"
   ]
  },
  {
   "cell_type": "code",
   "execution_count": 1,
   "id": "c4a5a010-3ac0-45f2-856d-04d9ad5f27c4",
   "metadata": {},
   "outputs": [],
   "source": [
    "import math"
   ]
  },
  {
   "cell_type": "code",
   "execution_count": 5,
   "id": "71214378-bf76-417a-bc07-e234a7e49951",
   "metadata": {},
   "outputs": [
    {
     "data": {
      "text/plain": [
       "6.874516652539955"
      ]
     },
     "execution_count": 5,
     "metadata": {},
     "output_type": "execute_result"
    }
   ],
   "source": [
    "# Calculating z value\n",
    "Z=(11.5-11)/(2.3/math.sqrt(1000))\n",
    "Z"
   ]
  },
  {
   "cell_type": "markdown",
   "id": "b42cfe7b-683e-42a6-b113-c6aea16bb474",
   "metadata": {},
   "source": [
    "#### Since 6.87 is greater than 1.645, we reject the null hypothesis."
   ]
  },
  {
   "cell_type": "markdown",
   "id": "eef7a93a-5793-477a-9f6a-7fc4aab45d6f",
   "metadata": {},
   "source": [
    "### Conclusion:\n",
    "We have sufficient evidence to conclude that the average time working mothers spend talking\n",
    "to their children is more than 11 minutes per day."
   ]
  },
  {
   "cell_type": "markdown",
   "id": "556c18c9-d601-4274-8e8f-42724fbd6096",
   "metadata": {},
   "source": [
    "####  Q2) A coffee shop claims that their average wait time for customers is less than 5 minutes. To test this claim, a sample of 40 customers is taken, and their wait times are recorded. The sample mean wait time is found to be 4.6 minutes with a standard deviation of 0.8 minutes. Perform a hypothesis test at a significance level of 0.05 and determine whether there is enough evidence to support the coffee shop's claim."
   ]
  },
  {
   "cell_type": "markdown",
   "id": "94bdf923-fdcb-45ae-9a1d-17c480f24a66",
   "metadata": {},
   "source": [
    "#### 1.Formulate Hypotheses:\n",
    "Null Hypothesis (H0): The average wait time for customers is 5 minutes or more. μ ≥ 5\n",
    "Alternative Hypothesis (Ha): The average wait time for customers is less than 5 minutes. μ < 5\n",
    "\n",
    "#### 2.Select Significance Level:\n",
    "α = 0.05\n",
    "\r",
    "#### 3. Data collectiona Sample size (n) = 40, Sample mean (x̄) = 4.6 minutes, Sample standard deviation (s) = 0.8 minues.5.s:es"
   ]
  },
  {
   "cell_type": "markdown",
   "id": "2eb892c9-7adb-48a4-83cd-8b58e86cbf41",
   "metadata": {},
   "source": [
    "#### 4.Compute Test Statistic:\n",
    "Since the population standard deviation is not given, we'll use the t-test.\n",
    "The test statistic for a t-test is calculated a t=(x̄-μ)/(s/√n).\n",
    "\n",
    "#### 5.Determine Critical Value or P-value:\n",
    "For a one-tailed test with α = 0.05 and degrees of freedom (df) = n - 1 = 39, the critical value can be found using a t-distribution table. Since it's a left-tailed test, we're interested in the lower tail of the distribution.\n",
    "The critical value for α = 0.05 and df = 39 is approximately -1.68"
   ]
  },
  {
   "cell_type": "markdown",
   "id": "6b3a4ec2-f075-4a07-bfe9-aba6b7115146",
   "metadata": {},
   "source": [
    "#### Probable outputs:\n",
    "If the calculated t-value is less than -1.685, we reject the null hypothesis.\n",
    "If the calculated t-value is greater than or equal to -1.685, we cannot reject the null hypothesis.5.s:es"
   ]
  },
  {
   "cell_type": "code",
   "execution_count": 6,
   "id": "5f43970a-bebe-4655-a381-ad4b1e7e7eb7",
   "metadata": {},
   "outputs": [
    {
     "data": {
      "text/plain": [
       "-3.162277660168382"
      ]
     },
     "execution_count": 6,
     "metadata": {},
     "output_type": "execute_result"
    }
   ],
   "source": [
    "# Calculating t value\n",
    "t=(4.6-5)/(0.8/math.sqrt(40))\n",
    "t"
   ]
  },
  {
   "cell_type": "markdown",
   "id": "721e258d-73c5-4c81-a179-0b2ee9022628",
   "metadata": {},
   "source": [
    "#### Since -3.16 is less than -1.685, we reject the null hypothesis."
   ]
  },
  {
   "cell_type": "markdown",
   "id": "ec078748-1638-429e-a338-5b14f25d8a91",
   "metadata": {},
   "source": [
    "### Conclusion:\n",
    "We have sufficient evidence to conclude that the average wait time\n",
    "for customers is less than 5 minutes at a significance level of 0.05."
   ]
  }
 ],
 "metadata": {
  "kernelspec": {
   "display_name": "Python 3 (ipykernel)",
   "language": "python",
   "name": "python3"
  },
  "language_info": {
   "codemirror_mode": {
    "name": "ipython",
    "version": 3
   },
   "file_extension": ".py",
   "mimetype": "text/x-python",
   "name": "python",
   "nbconvert_exporter": "python",
   "pygments_lexer": "ipython3",
   "version": "3.11.4"
  }
 },
 "nbformat": 4,
 "nbformat_minor": 5
}
